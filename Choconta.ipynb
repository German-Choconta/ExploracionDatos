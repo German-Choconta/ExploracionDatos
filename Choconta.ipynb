{
  "nbformat": 4,
  "nbformat_minor": 0,
  "metadata": {
    "colab": {
      "provenance": []
    },
    "kernelspec": {
      "name": "python3",
      "display_name": "Python 3"
    },
    "language_info": {
      "name": "python"
    }
  },
  "cells": [
    {
      "cell_type": "code",
      "execution_count": null,
      "metadata": {
        "id": "cTOM-KP7K9MZ"
      },
      "outputs": [],
      "source": []
    },
    {
      "cell_type": "markdown",
      "source": [
        "# Visualización de datos"
      ],
      "metadata": {
        "id": "MUk2j3DHPRws"
      }
    },
    {
      "cell_type": "markdown",
      "source": [
        "Para la primera clase de visualización e datos, trabajaremos con dos motores basicos de graficos de Python, que son el paquete base y el seaborn.\n",
        "\n",
        "En este caso trabajaramos con base de datos de pokemon que ya hemos trabajado hace algunas seciones anteriores. La idea de la clase es:\n",
        "\n",
        "1. Cargar base de datos\n",
        "2. Llamar a un objeto de la base de datos\n",
        "3. Estadistica descriptiva de un variable cualitativa\n",
        "4. Estadistica descriptiva de un variable cuantitativa"
      ],
      "metadata": {
        "id": "DxSGwKdYMokE"
      }
    },
    {
      "cell_type": "markdown",
      "source": [
        "Pokémon (ポケモン Pokemon?) es una franquicia de medios que originalmente comenzó como un videojuego RPG, pero debido a su popularidad ha logrado expandirse a otros medios de entretenimiento como series de televisión, películas, juegos de cartas, ropa, entre otros, convirtiéndose en una marca que es reconocida en el mercado mundial. Las ventas de videojuegos hasta el 1 de diciembre de 2006 habían alcanzado una cantidad de 340 millones de ejemplares (incluyendo la venta de la versión Pikachu de la consola Nintendo 64),1​ logrando ocupar el segundo lugar de las sagas de videojuegos más vendidos de Nintendo.2​ La franquicia celebró su décimo aniversario el 27 de febrero de 2006.3​4​"
      ],
      "metadata": {
        "id": "1FjrdT_DN0gH"
      }
    },
    {
      "cell_type": "markdown",
      "source": [
        "https://i.blogs.es/82d7ef/pokemon/1366_2000.webp"
      ],
      "metadata": {
        "id": "RziLrHWvO7zn"
      }
    },
    {
      "cell_type": "markdown",
      "source": [
        "### Carge de datos"
      ],
      "metadata": {
        "id": "Qc3t80OHPLlt"
      }
    },
    {
      "cell_type": "code",
      "source": [
        "import pandas as pd"
      ],
      "metadata": {
        "id": "iY5y5iPjPcyj"
      },
      "execution_count": null,
      "outputs": []
    },
    {
      "cell_type": "code",
      "source": [
        "from google.colab import drive\n",
        "drive.mount('/content/drive')"
      ],
      "metadata": {
        "colab": {
          "base_uri": "https://localhost:8080/"
        },
        "id": "qGYggKZ6Qk_4",
        "outputId": "848e1205-bc44-4705-da06-db74d5d7e4d3"
      },
      "execution_count": null,
      "outputs": [
        {
          "output_type": "stream",
          "name": "stdout",
          "text": [
            "Mounted at /content/drive\n"
          ]
        }
      ]
    },
    {
      "cell_type": "code",
      "source": [
        "datos = pd.read_excel('/content/drive/MyDrive/Visualización de datos/pokemon.xlsx')"
      ],
      "metadata": {
        "id": "T3JCv8e_ThYA"
      },
      "execution_count": null,
      "outputs": []
    },
    {
      "cell_type": "markdown",
      "source": [
        "## EXPLORAR LA BASE"
      ],
      "metadata": {
        "id": "z-H-2fDBVeVE"
      }
    },
    {
      "cell_type": "code",
      "source": [
        "datos.info()"
      ],
      "metadata": {
        "colab": {
          "base_uri": "https://localhost:8080/"
        },
        "id": "9fGCSyrPViYu",
        "outputId": "8b4d5372-fe54-4fb5-b3e4-e4726ffba571"
      },
      "execution_count": null,
      "outputs": [
        {
          "output_type": "stream",
          "name": "stdout",
          "text": [
            "<class 'pandas.core.frame.DataFrame'>\n",
            "RangeIndex: 721 entries, 0 to 720\n",
            "Data columns (total 23 columns):\n",
            " #   Column            Non-Null Count  Dtype  \n",
            "---  ------            --------------  -----  \n",
            " 0   Number            721 non-null    int64  \n",
            " 1   Name              721 non-null    object \n",
            " 2   Type_1            721 non-null    object \n",
            " 3   Type_2            350 non-null    object \n",
            " 4   Total             721 non-null    int64  \n",
            " 5   HP                721 non-null    int64  \n",
            " 6   Attack            721 non-null    int64  \n",
            " 7   Defense           721 non-null    int64  \n",
            " 8   Sp_Atk            721 non-null    int64  \n",
            " 9   Sp_Def            721 non-null    int64  \n",
            " 10  Speed             721 non-null    int64  \n",
            " 11  Generation        721 non-null    int64  \n",
            " 12  isLegendary       721 non-null    bool   \n",
            " 13  Color             721 non-null    object \n",
            " 14  hasGender         721 non-null    bool   \n",
            " 15  Pr_Male           644 non-null    float64\n",
            " 16  Egg_Group_1       721 non-null    object \n",
            " 17  Egg_Group_2       191 non-null    object \n",
            " 18  hasMegaEvolution  721 non-null    bool   \n",
            " 19  Height_m          721 non-null    float64\n",
            " 20  Weight_kg         721 non-null    float64\n",
            " 21  Catch_Rate        721 non-null    int64  \n",
            " 22  Body_Style        721 non-null    object \n",
            "dtypes: bool(3), float64(3), int64(10), object(7)\n",
            "memory usage: 114.9+ KB\n"
          ]
        }
      ]
    },
    {
      "cell_type": "code",
      "source": [
        "datos.Generation = datos.Generation.astype(\"category\")"
      ],
      "metadata": {
        "id": "cmV6wAgSW4hH"
      },
      "execution_count": null,
      "outputs": []
    },
    {
      "cell_type": "code",
      "source": [
        "datos.info()"
      ],
      "metadata": {
        "colab": {
          "base_uri": "https://localhost:8080/"
        },
        "id": "QnKa5j8yYc_3",
        "outputId": "79987a5f-ab9e-4bbb-af3a-d16d05ed7051"
      },
      "execution_count": null,
      "outputs": [
        {
          "output_type": "stream",
          "name": "stdout",
          "text": [
            "<class 'pandas.core.frame.DataFrame'>\n",
            "RangeIndex: 721 entries, 0 to 720\n",
            "Data columns (total 23 columns):\n",
            " #   Column            Non-Null Count  Dtype   \n",
            "---  ------            --------------  -----   \n",
            " 0   Number            721 non-null    int64   \n",
            " 1   Name              721 non-null    object  \n",
            " 2   Type_1            721 non-null    object  \n",
            " 3   Type_2            350 non-null    object  \n",
            " 4   Total             721 non-null    int64   \n",
            " 5   HP                721 non-null    int64   \n",
            " 6   Attack            721 non-null    int64   \n",
            " 7   Defense           721 non-null    int64   \n",
            " 8   Sp_Atk            721 non-null    int64   \n",
            " 9   Sp_Def            721 non-null    int64   \n",
            " 10  Speed             721 non-null    int64   \n",
            " 11  Generation        721 non-null    category\n",
            " 12  isLegendary       721 non-null    bool    \n",
            " 13  Color             721 non-null    object  \n",
            " 14  hasGender         721 non-null    bool    \n",
            " 15  Pr_Male           644 non-null    float64 \n",
            " 16  Egg_Group_1       721 non-null    object  \n",
            " 17  Egg_Group_2       191 non-null    object  \n",
            " 18  hasMegaEvolution  721 non-null    bool    \n",
            " 19  Height_m          721 non-null    float64 \n",
            " 20  Weight_kg         721 non-null    float64 \n",
            " 21  Catch_Rate        721 non-null    int64   \n",
            " 22  Body_Style        721 non-null    object  \n",
            "dtypes: bool(3), category(1), float64(3), int64(9), object(7)\n",
            "memory usage: 110.2+ KB\n"
          ]
        }
      ]
    },
    {
      "cell_type": "code",
      "source": [
        "datos.head()"
      ],
      "metadata": {
        "colab": {
          "base_uri": "https://localhost:8080/",
          "height": 236
        },
        "id": "VBnly3DIYuU7",
        "outputId": "40c677d3-03ea-402e-fe07-0f5d300c1199"
      },
      "execution_count": null,
      "outputs": [
        {
          "output_type": "execute_result",
          "data": {
            "text/plain": [
              "   Number        Name Type_1  Type_2  Total  HP  Attack  Defense  Sp_Atk  \\\n",
              "0       1   Bulbasaur  Grass  Poison    318  45      49       49      65   \n",
              "1       2     Ivysaur  Grass  Poison    405  60      62       63      80   \n",
              "2       3    Venusaur  Grass  Poison    525  80      82       83     100   \n",
              "3       4  Charmander   Fire     NaN    309  39      52       43      60   \n",
              "4       5  Charmeleon   Fire     NaN    405  58      64       58      80   \n",
              "\n",
              "   Sp_Def  ...  Color hasGender  Pr_Male Egg_Group_1  Egg_Group_2  \\\n",
              "0      65  ...  Green      True    0.875     Monster        Grass   \n",
              "1      80  ...  Green      True    0.875     Monster        Grass   \n",
              "2     100  ...  Green      True    0.875     Monster        Grass   \n",
              "3      50  ...    Red      True    0.875     Monster       Dragon   \n",
              "4      65  ...    Red      True    0.875     Monster       Dragon   \n",
              "\n",
              "   hasMegaEvolution Height_m Weight_kg  Catch_Rate      Body_Style  \n",
              "0             False     0.71       6.9          45       quadruped  \n",
              "1             False     0.99      13.0          45       quadruped  \n",
              "2              True     2.01     100.0          45       quadruped  \n",
              "3             False     0.61       8.5          45  bipedal_tailed  \n",
              "4             False     1.09      19.0          45  bipedal_tailed  \n",
              "\n",
              "[5 rows x 23 columns]"
            ],
            "text/html": [
              "\n",
              "  <div id=\"df-ddece876-0bdf-4104-bac6-74f577ced657\" class=\"colab-df-container\">\n",
              "    <div>\n",
              "<style scoped>\n",
              "    .dataframe tbody tr th:only-of-type {\n",
              "        vertical-align: middle;\n",
              "    }\n",
              "\n",
              "    .dataframe tbody tr th {\n",
              "        vertical-align: top;\n",
              "    }\n",
              "\n",
              "    .dataframe thead th {\n",
              "        text-align: right;\n",
              "    }\n",
              "</style>\n",
              "<table border=\"1\" class=\"dataframe\">\n",
              "  <thead>\n",
              "    <tr style=\"text-align: right;\">\n",
              "      <th></th>\n",
              "      <th>Number</th>\n",
              "      <th>Name</th>\n",
              "      <th>Type_1</th>\n",
              "      <th>Type_2</th>\n",
              "      <th>Total</th>\n",
              "      <th>HP</th>\n",
              "      <th>Attack</th>\n",
              "      <th>Defense</th>\n",
              "      <th>Sp_Atk</th>\n",
              "      <th>Sp_Def</th>\n",
              "      <th>...</th>\n",
              "      <th>Color</th>\n",
              "      <th>hasGender</th>\n",
              "      <th>Pr_Male</th>\n",
              "      <th>Egg_Group_1</th>\n",
              "      <th>Egg_Group_2</th>\n",
              "      <th>hasMegaEvolution</th>\n",
              "      <th>Height_m</th>\n",
              "      <th>Weight_kg</th>\n",
              "      <th>Catch_Rate</th>\n",
              "      <th>Body_Style</th>\n",
              "    </tr>\n",
              "  </thead>\n",
              "  <tbody>\n",
              "    <tr>\n",
              "      <th>0</th>\n",
              "      <td>1</td>\n",
              "      <td>Bulbasaur</td>\n",
              "      <td>Grass</td>\n",
              "      <td>Poison</td>\n",
              "      <td>318</td>\n",
              "      <td>45</td>\n",
              "      <td>49</td>\n",
              "      <td>49</td>\n",
              "      <td>65</td>\n",
              "      <td>65</td>\n",
              "      <td>...</td>\n",
              "      <td>Green</td>\n",
              "      <td>True</td>\n",
              "      <td>0.875</td>\n",
              "      <td>Monster</td>\n",
              "      <td>Grass</td>\n",
              "      <td>False</td>\n",
              "      <td>0.71</td>\n",
              "      <td>6.9</td>\n",
              "      <td>45</td>\n",
              "      <td>quadruped</td>\n",
              "    </tr>\n",
              "    <tr>\n",
              "      <th>1</th>\n",
              "      <td>2</td>\n",
              "      <td>Ivysaur</td>\n",
              "      <td>Grass</td>\n",
              "      <td>Poison</td>\n",
              "      <td>405</td>\n",
              "      <td>60</td>\n",
              "      <td>62</td>\n",
              "      <td>63</td>\n",
              "      <td>80</td>\n",
              "      <td>80</td>\n",
              "      <td>...</td>\n",
              "      <td>Green</td>\n",
              "      <td>True</td>\n",
              "      <td>0.875</td>\n",
              "      <td>Monster</td>\n",
              "      <td>Grass</td>\n",
              "      <td>False</td>\n",
              "      <td>0.99</td>\n",
              "      <td>13.0</td>\n",
              "      <td>45</td>\n",
              "      <td>quadruped</td>\n",
              "    </tr>\n",
              "    <tr>\n",
              "      <th>2</th>\n",
              "      <td>3</td>\n",
              "      <td>Venusaur</td>\n",
              "      <td>Grass</td>\n",
              "      <td>Poison</td>\n",
              "      <td>525</td>\n",
              "      <td>80</td>\n",
              "      <td>82</td>\n",
              "      <td>83</td>\n",
              "      <td>100</td>\n",
              "      <td>100</td>\n",
              "      <td>...</td>\n",
              "      <td>Green</td>\n",
              "      <td>True</td>\n",
              "      <td>0.875</td>\n",
              "      <td>Monster</td>\n",
              "      <td>Grass</td>\n",
              "      <td>True</td>\n",
              "      <td>2.01</td>\n",
              "      <td>100.0</td>\n",
              "      <td>45</td>\n",
              "      <td>quadruped</td>\n",
              "    </tr>\n",
              "    <tr>\n",
              "      <th>3</th>\n",
              "      <td>4</td>\n",
              "      <td>Charmander</td>\n",
              "      <td>Fire</td>\n",
              "      <td>NaN</td>\n",
              "      <td>309</td>\n",
              "      <td>39</td>\n",
              "      <td>52</td>\n",
              "      <td>43</td>\n",
              "      <td>60</td>\n",
              "      <td>50</td>\n",
              "      <td>...</td>\n",
              "      <td>Red</td>\n",
              "      <td>True</td>\n",
              "      <td>0.875</td>\n",
              "      <td>Monster</td>\n",
              "      <td>Dragon</td>\n",
              "      <td>False</td>\n",
              "      <td>0.61</td>\n",
              "      <td>8.5</td>\n",
              "      <td>45</td>\n",
              "      <td>bipedal_tailed</td>\n",
              "    </tr>\n",
              "    <tr>\n",
              "      <th>4</th>\n",
              "      <td>5</td>\n",
              "      <td>Charmeleon</td>\n",
              "      <td>Fire</td>\n",
              "      <td>NaN</td>\n",
              "      <td>405</td>\n",
              "      <td>58</td>\n",
              "      <td>64</td>\n",
              "      <td>58</td>\n",
              "      <td>80</td>\n",
              "      <td>65</td>\n",
              "      <td>...</td>\n",
              "      <td>Red</td>\n",
              "      <td>True</td>\n",
              "      <td>0.875</td>\n",
              "      <td>Monster</td>\n",
              "      <td>Dragon</td>\n",
              "      <td>False</td>\n",
              "      <td>1.09</td>\n",
              "      <td>19.0</td>\n",
              "      <td>45</td>\n",
              "      <td>bipedal_tailed</td>\n",
              "    </tr>\n",
              "  </tbody>\n",
              "</table>\n",
              "<p>5 rows × 23 columns</p>\n",
              "</div>\n",
              "    <div class=\"colab-df-buttons\">\n",
              "\n",
              "  <div class=\"colab-df-container\">\n",
              "    <button class=\"colab-df-convert\" onclick=\"convertToInteractive('df-ddece876-0bdf-4104-bac6-74f577ced657')\"\n",
              "            title=\"Convert this dataframe to an interactive table.\"\n",
              "            style=\"display:none;\">\n",
              "\n",
              "  <svg xmlns=\"http://www.w3.org/2000/svg\" height=\"24px\" viewBox=\"0 -960 960 960\">\n",
              "    <path d=\"M120-120v-720h720v720H120Zm60-500h600v-160H180v160Zm220 220h160v-160H400v160Zm0 220h160v-160H400v160ZM180-400h160v-160H180v160Zm440 0h160v-160H620v160ZM180-180h160v-160H180v160Zm440 0h160v-160H620v160Z\"/>\n",
              "  </svg>\n",
              "    </button>\n",
              "\n",
              "  <style>\n",
              "    .colab-df-container {\n",
              "      display:flex;\n",
              "      gap: 12px;\n",
              "    }\n",
              "\n",
              "    .colab-df-convert {\n",
              "      background-color: #E8F0FE;\n",
              "      border: none;\n",
              "      border-radius: 50%;\n",
              "      cursor: pointer;\n",
              "      display: none;\n",
              "      fill: #1967D2;\n",
              "      height: 32px;\n",
              "      padding: 0 0 0 0;\n",
              "      width: 32px;\n",
              "    }\n",
              "\n",
              "    .colab-df-convert:hover {\n",
              "      background-color: #E2EBFA;\n",
              "      box-shadow: 0px 1px 2px rgba(60, 64, 67, 0.3), 0px 1px 3px 1px rgba(60, 64, 67, 0.15);\n",
              "      fill: #174EA6;\n",
              "    }\n",
              "\n",
              "    .colab-df-buttons div {\n",
              "      margin-bottom: 4px;\n",
              "    }\n",
              "\n",
              "    [theme=dark] .colab-df-convert {\n",
              "      background-color: #3B4455;\n",
              "      fill: #D2E3FC;\n",
              "    }\n",
              "\n",
              "    [theme=dark] .colab-df-convert:hover {\n",
              "      background-color: #434B5C;\n",
              "      box-shadow: 0px 1px 3px 1px rgba(0, 0, 0, 0.15);\n",
              "      filter: drop-shadow(0px 1px 2px rgba(0, 0, 0, 0.3));\n",
              "      fill: #FFFFFF;\n",
              "    }\n",
              "  </style>\n",
              "\n",
              "    <script>\n",
              "      const buttonEl =\n",
              "        document.querySelector('#df-ddece876-0bdf-4104-bac6-74f577ced657 button.colab-df-convert');\n",
              "      buttonEl.style.display =\n",
              "        google.colab.kernel.accessAllowed ? 'block' : 'none';\n",
              "\n",
              "      async function convertToInteractive(key) {\n",
              "        const element = document.querySelector('#df-ddece876-0bdf-4104-bac6-74f577ced657');\n",
              "        const dataTable =\n",
              "          await google.colab.kernel.invokeFunction('convertToInteractive',\n",
              "                                                    [key], {});\n",
              "        if (!dataTable) return;\n",
              "\n",
              "        const docLinkHtml = 'Like what you see? Visit the ' +\n",
              "          '<a target=\"_blank\" href=https://colab.research.google.com/notebooks/data_table.ipynb>data table notebook</a>'\n",
              "          + ' to learn more about interactive tables.';\n",
              "        element.innerHTML = '';\n",
              "        dataTable['output_type'] = 'display_data';\n",
              "        await google.colab.output.renderOutput(dataTable, element);\n",
              "        const docLink = document.createElement('div');\n",
              "        docLink.innerHTML = docLinkHtml;\n",
              "        element.appendChild(docLink);\n",
              "      }\n",
              "    </script>\n",
              "  </div>\n",
              "\n",
              "\n",
              "<div id=\"df-e32aa433-36f2-4a66-9dcf-19e07fb8e936\">\n",
              "  <button class=\"colab-df-quickchart\" onclick=\"quickchart('df-e32aa433-36f2-4a66-9dcf-19e07fb8e936')\"\n",
              "            title=\"Suggest charts\"\n",
              "            style=\"display:none;\">\n",
              "\n",
              "<svg xmlns=\"http://www.w3.org/2000/svg\" height=\"24px\"viewBox=\"0 0 24 24\"\n",
              "     width=\"24px\">\n",
              "    <g>\n",
              "        <path d=\"M19 3H5c-1.1 0-2 .9-2 2v14c0 1.1.9 2 2 2h14c1.1 0 2-.9 2-2V5c0-1.1-.9-2-2-2zM9 17H7v-7h2v7zm4 0h-2V7h2v10zm4 0h-2v-4h2v4z\"/>\n",
              "    </g>\n",
              "</svg>\n",
              "  </button>\n",
              "\n",
              "<style>\n",
              "  .colab-df-quickchart {\n",
              "      --bg-color: #E8F0FE;\n",
              "      --fill-color: #1967D2;\n",
              "      --hover-bg-color: #E2EBFA;\n",
              "      --hover-fill-color: #174EA6;\n",
              "      --disabled-fill-color: #AAA;\n",
              "      --disabled-bg-color: #DDD;\n",
              "  }\n",
              "\n",
              "  [theme=dark] .colab-df-quickchart {\n",
              "      --bg-color: #3B4455;\n",
              "      --fill-color: #D2E3FC;\n",
              "      --hover-bg-color: #434B5C;\n",
              "      --hover-fill-color: #FFFFFF;\n",
              "      --disabled-bg-color: #3B4455;\n",
              "      --disabled-fill-color: #666;\n",
              "  }\n",
              "\n",
              "  .colab-df-quickchart {\n",
              "    background-color: var(--bg-color);\n",
              "    border: none;\n",
              "    border-radius: 50%;\n",
              "    cursor: pointer;\n",
              "    display: none;\n",
              "    fill: var(--fill-color);\n",
              "    height: 32px;\n",
              "    padding: 0;\n",
              "    width: 32px;\n",
              "  }\n",
              "\n",
              "  .colab-df-quickchart:hover {\n",
              "    background-color: var(--hover-bg-color);\n",
              "    box-shadow: 0 1px 2px rgba(60, 64, 67, 0.3), 0 1px 3px 1px rgba(60, 64, 67, 0.15);\n",
              "    fill: var(--button-hover-fill-color);\n",
              "  }\n",
              "\n",
              "  .colab-df-quickchart-complete:disabled,\n",
              "  .colab-df-quickchart-complete:disabled:hover {\n",
              "    background-color: var(--disabled-bg-color);\n",
              "    fill: var(--disabled-fill-color);\n",
              "    box-shadow: none;\n",
              "  }\n",
              "\n",
              "  .colab-df-spinner {\n",
              "    border: 2px solid var(--fill-color);\n",
              "    border-color: transparent;\n",
              "    border-bottom-color: var(--fill-color);\n",
              "    animation:\n",
              "      spin 1s steps(1) infinite;\n",
              "  }\n",
              "\n",
              "  @keyframes spin {\n",
              "    0% {\n",
              "      border-color: transparent;\n",
              "      border-bottom-color: var(--fill-color);\n",
              "      border-left-color: var(--fill-color);\n",
              "    }\n",
              "    20% {\n",
              "      border-color: transparent;\n",
              "      border-left-color: var(--fill-color);\n",
              "      border-top-color: var(--fill-color);\n",
              "    }\n",
              "    30% {\n",
              "      border-color: transparent;\n",
              "      border-left-color: var(--fill-color);\n",
              "      border-top-color: var(--fill-color);\n",
              "      border-right-color: var(--fill-color);\n",
              "    }\n",
              "    40% {\n",
              "      border-color: transparent;\n",
              "      border-right-color: var(--fill-color);\n",
              "      border-top-color: var(--fill-color);\n",
              "    }\n",
              "    60% {\n",
              "      border-color: transparent;\n",
              "      border-right-color: var(--fill-color);\n",
              "    }\n",
              "    80% {\n",
              "      border-color: transparent;\n",
              "      border-right-color: var(--fill-color);\n",
              "      border-bottom-color: var(--fill-color);\n",
              "    }\n",
              "    90% {\n",
              "      border-color: transparent;\n",
              "      border-bottom-color: var(--fill-color);\n",
              "    }\n",
              "  }\n",
              "</style>\n",
              "\n",
              "  <script>\n",
              "    async function quickchart(key) {\n",
              "      const quickchartButtonEl =\n",
              "        document.querySelector('#' + key + ' button');\n",
              "      quickchartButtonEl.disabled = true;  // To prevent multiple clicks.\n",
              "      quickchartButtonEl.classList.add('colab-df-spinner');\n",
              "      try {\n",
              "        const charts = await google.colab.kernel.invokeFunction(\n",
              "            'suggestCharts', [key], {});\n",
              "      } catch (error) {\n",
              "        console.error('Error during call to suggestCharts:', error);\n",
              "      }\n",
              "      quickchartButtonEl.classList.remove('colab-df-spinner');\n",
              "      quickchartButtonEl.classList.add('colab-df-quickchart-complete');\n",
              "    }\n",
              "    (() => {\n",
              "      let quickchartButtonEl =\n",
              "        document.querySelector('#df-e32aa433-36f2-4a66-9dcf-19e07fb8e936 button');\n",
              "      quickchartButtonEl.style.display =\n",
              "        google.colab.kernel.accessAllowed ? 'block' : 'none';\n",
              "    })();\n",
              "  </script>\n",
              "</div>\n",
              "\n",
              "    </div>\n",
              "  </div>\n"
            ],
            "application/vnd.google.colaboratory.intrinsic+json": {
              "type": "dataframe",
              "variable_name": "datos"
            }
          },
          "metadata": {},
          "execution_count": 20
        }
      ]
    },
    {
      "cell_type": "markdown",
      "source": [
        "# Una variable cualitativa"
      ],
      "metadata": {
        "id": "lPRWFuCjZMnS"
      }
    },
    {
      "cell_type": "code",
      "source": [
        "TabFrec=datos.Type_1.value_counts()"
      ],
      "metadata": {
        "id": "K0dyd9u7ZQtx"
      },
      "execution_count": null,
      "outputs": []
    },
    {
      "cell_type": "code",
      "source": [
        "TabFrec"
      ],
      "metadata": {
        "colab": {
          "base_uri": "https://localhost:8080/",
          "height": 680
        },
        "id": "pzg9zsJLZxKx",
        "outputId": "8a8e40c5-929a-4692-c5e3-fd76b7523869"
      },
      "execution_count": null,
      "outputs": [
        {
          "output_type": "execute_result",
          "data": {
            "text/plain": [
              "Type_1\n",
              "Water       105\n",
              "Normal       93\n",
              "Grass        66\n",
              "Bug          63\n",
              "Fire         47\n",
              "Psychic      47\n",
              "Rock         41\n",
              "Electric     36\n",
              "Ground       30\n",
              "Poison       28\n",
              "Dark         28\n",
              "Fighting     25\n",
              "Dragon       24\n",
              "Ghost        23\n",
              "Ice          23\n",
              "Steel        22\n",
              "Fairy        17\n",
              "Flying        3\n",
              "Name: count, dtype: int64"
            ],
            "text/html": [
              "<div>\n",
              "<style scoped>\n",
              "    .dataframe tbody tr th:only-of-type {\n",
              "        vertical-align: middle;\n",
              "    }\n",
              "\n",
              "    .dataframe tbody tr th {\n",
              "        vertical-align: top;\n",
              "    }\n",
              "\n",
              "    .dataframe thead th {\n",
              "        text-align: right;\n",
              "    }\n",
              "</style>\n",
              "<table border=\"1\" class=\"dataframe\">\n",
              "  <thead>\n",
              "    <tr style=\"text-align: right;\">\n",
              "      <th></th>\n",
              "      <th>count</th>\n",
              "    </tr>\n",
              "    <tr>\n",
              "      <th>Type_1</th>\n",
              "      <th></th>\n",
              "    </tr>\n",
              "  </thead>\n",
              "  <tbody>\n",
              "    <tr>\n",
              "      <th>Water</th>\n",
              "      <td>105</td>\n",
              "    </tr>\n",
              "    <tr>\n",
              "      <th>Normal</th>\n",
              "      <td>93</td>\n",
              "    </tr>\n",
              "    <tr>\n",
              "      <th>Grass</th>\n",
              "      <td>66</td>\n",
              "    </tr>\n",
              "    <tr>\n",
              "      <th>Bug</th>\n",
              "      <td>63</td>\n",
              "    </tr>\n",
              "    <tr>\n",
              "      <th>Fire</th>\n",
              "      <td>47</td>\n",
              "    </tr>\n",
              "    <tr>\n",
              "      <th>Psychic</th>\n",
              "      <td>47</td>\n",
              "    </tr>\n",
              "    <tr>\n",
              "      <th>Rock</th>\n",
              "      <td>41</td>\n",
              "    </tr>\n",
              "    <tr>\n",
              "      <th>Electric</th>\n",
              "      <td>36</td>\n",
              "    </tr>\n",
              "    <tr>\n",
              "      <th>Ground</th>\n",
              "      <td>30</td>\n",
              "    </tr>\n",
              "    <tr>\n",
              "      <th>Poison</th>\n",
              "      <td>28</td>\n",
              "    </tr>\n",
              "    <tr>\n",
              "      <th>Dark</th>\n",
              "      <td>28</td>\n",
              "    </tr>\n",
              "    <tr>\n",
              "      <th>Fighting</th>\n",
              "      <td>25</td>\n",
              "    </tr>\n",
              "    <tr>\n",
              "      <th>Dragon</th>\n",
              "      <td>24</td>\n",
              "    </tr>\n",
              "    <tr>\n",
              "      <th>Ghost</th>\n",
              "      <td>23</td>\n",
              "    </tr>\n",
              "    <tr>\n",
              "      <th>Ice</th>\n",
              "      <td>23</td>\n",
              "    </tr>\n",
              "    <tr>\n",
              "      <th>Steel</th>\n",
              "      <td>22</td>\n",
              "    </tr>\n",
              "    <tr>\n",
              "      <th>Fairy</th>\n",
              "      <td>17</td>\n",
              "    </tr>\n",
              "    <tr>\n",
              "      <th>Flying</th>\n",
              "      <td>3</td>\n",
              "    </tr>\n",
              "  </tbody>\n",
              "</table>\n",
              "</div><br><label><b>dtype:</b> int64</label>"
            ]
          },
          "metadata": {},
          "execution_count": 22
        }
      ]
    },
    {
      "cell_type": "code",
      "source": [
        "TabFrec.plot(kind=\"bar\")"
      ],
      "metadata": {
        "colab": {
          "base_uri": "https://localhost:8080/",
          "height": 508
        },
        "id": "rKWj8nYRafhm",
        "outputId": "98a6e0a8-b2fc-4bdf-f7e0-62da395c8233"
      },
      "execution_count": null,
      "outputs": [
        {
          "output_type": "execute_result",
          "data": {
            "text/plain": [
              "<Axes: xlabel='Type_1'>"
            ]
          },
          "metadata": {},
          "execution_count": 23
        },
        {
          "output_type": "display_data",
          "data": {
            "text/plain": [
              "<Figure size 640x480 with 1 Axes>"
            ],
            "image/png": "[encoded data removed]"
          },
          "metadata": {}
        }
      ]
    },
    {
      "cell_type": "code",
      "source": [
        "# prompt: ponle colores mas bonitos\n",
        "\n",
        "import pandas as pd\n",
        "import matplotlib.pyplot as plt\n",
        "from google.colab import drive\n",
        "\n",
        "# ### Carge de datos\n",
        "drive.mount('/content/drive')\n",
        "datos = pd.read_excel('/content/drive/MyDrive/Visualización de datos/pokemon.xlsx')\n",
        "\n",
        "# ## EXPLORAR LA BASE\n",
        "datos.info()\n",
        "datos.Generation = datos.Generation.astype(\"category\")\n",
        "datos.info()\n",
        "datos.head()\n",
        "\n",
        "# # Una variable cualitativa\n",
        "TabFrec = datos.Type_1.value_counts()\n",
        "TabFrec\n",
        "\n",
        "# Customize the bar plot\n",
        "plt.figure(figsize=(12, 6))  # Adjust figure size for better readability\n",
        "TabFrec.plot(kind=\"barh\", color='skyblue', edgecolor='black') # Set bar color and edge color\n",
        "plt.title('Frequency of Pokémon Types', fontsize=16) # Add a title\n",
        "plt.xlabel('Pokémon Type', fontsize=14) # Label the x-axis\n",
        "plt.ylabel('Frequency', fontsize=14) # Label the y-axis\n",
        "plt.xticks(rotation=45, ha='right') # Rotate x-axis labels for better visibility\n",
        "plt.grid(axis='y', linestyle='--', alpha=0.7) # Add a grid for better readability\n",
        "plt.tight_layout() # Adjust layout to prevent labels from overlapping\n",
        "plt.show()"
      ],
      "metadata": {
        "colab": {
          "base_uri": "https://localhost:8080/",
          "height": 1000
        },
        "id": "_gVfPPebbX_c",
        "outputId": "8cc19b24-7e72-46e7-9e67-8a48bddbb1c0"
      },
      "execution_count": null,
      "outputs": [
        {
          "output_type": "stream",
          "name": "stdout",
          "text": [
            "Drive already mounted at /content/drive; to attempt to forcibly remount, call drive.mount(\"/content/drive\", force_remount=True).\n",
            "<class 'pandas.core.frame.DataFrame'>\n",
            "RangeIndex: 721 entries, 0 to 720\n",
            "Data columns (total 23 columns):\n",
            " #   Column            Non-Null Count  Dtype  \n",
            "---  ------            --------------  -----  \n",
            " 0   Number            721 non-null    int64  \n",
            " 1   Name              721 non-null    object \n",
            " 2   Type_1            721 non-null    object \n",
            " 3   Type_2            350 non-null    object \n",
            " 4   Total             721 non-null    int64  \n",
            " 5   HP                721 non-null    int64  \n",
            " 6   Attack            721 non-null    int64  \n",
            " 7   Defense           721 non-null    int64  \n",
            " 8   Sp_Atk            721 non-null    int64  \n",
            " 9   Sp_Def            721 non-null    int64  \n",
            " 10  Speed             721 non-null    int64  \n",
            " 11  Generation        721 non-null    int64  \n",
            " 12  isLegendary       721 non-null    bool   \n",
            " 13  Color             721 non-null    object \n",
            " 14  hasGender         721 non-null    bool   \n",
            " 15  Pr_Male           644 non-null    float64\n",
            " 16  Egg_Group_1       721 non-null    object \n",
            " 17  Egg_Group_2       191 non-null    object \n",
            " 18  hasMegaEvolution  721 non-null    bool   \n",
            " 19  Height_m          721 non-null    float64\n",
            " 20  Weight_kg         721 non-null    float64\n",
            " 21  Catch_Rate        721 non-null    int64  \n",
            " 22  Body_Style        721 non-null    object \n",
            "dtypes: bool(3), float64(3), int64(10), object(7)\n",
            "memory usage: 114.9+ KB\n",
            "<class 'pandas.core.frame.DataFrame'>\n",
            "RangeIndex: 721 entries, 0 to 720\n",
            "Data columns (total 23 columns):\n",
            " #   Column            Non-Null Count  Dtype   \n",
            "---  ------            --------------  -----   \n",
            " 0   Number            721 non-null    int64   \n",
            " 1   Name              721 non-null    object  \n",
            " 2   Type_1            721 non-null    object  \n",
            " 3   Type_2            350 non-null    object  \n",
            " 4   Total             721 non-null    int64   \n",
            " 5   HP                721 non-null    int64   \n",
            " 6   Attack            721 non-null    int64   \n",
            " 7   Defense           721 non-null    int64   \n",
            " 8   Sp_Atk            721 non-null    int64   \n",
            " 9   Sp_Def            721 non-null    int64   \n",
            " 10  Speed             721 non-null    int64   \n",
            " 11  Generation        721 non-null    category\n",
            " 12  isLegendary       721 non-null    bool    \n",
            " 13  Color             721 non-null    object  \n",
            " 14  hasGender         721 non-null    bool    \n",
            " 15  Pr_Male           644 non-null    float64 \n",
            " 16  Egg_Group_1       721 non-null    object  \n",
            " 17  Egg_Group_2       191 non-null    object  \n",
            " 18  hasMegaEvolution  721 non-null    bool    \n",
            " 19  Height_m          721 non-null    float64 \n",
            " 20  Weight_kg         721 non-null    float64 \n",
            " 21  Catch_Rate        721 non-null    int64   \n",
            " 22  Body_Style        721 non-null    object  \n",
            "dtypes: bool(3), category(1), float64(3), int64(9), object(7)\n",
            "memory usage: 110.2+ KB\n"
          ]
        },
        {
          "output_type": "display_data",
          "data": {
            "text/plain": [
              "<Figure size 1200x600 with 1 Axes>"
            ],
            "image/png": "[encoded data removed]"
          },
          "metadata": {}
        }
      ]
    },
    {
      "cell_type": "code",
      "source": [
        "tabfrec1 = datos.Generation.value_counts()\n",
        "tabfrec2 = datos.isLegendary.value_counts()"
      ],
      "metadata": {
        "id": "xWiVMBPKc9SN"
      },
      "execution_count": null,
      "outputs": []
    },
    {
      "cell_type": "code",
      "source": [
        "tabfrec1"
      ],
      "metadata": {
        "colab": {
          "base_uri": "https://localhost:8080/",
          "height": 304
        },
        "id": "_54Tc09QdWBn",
        "outputId": "d87b2349-617f-4044-dbe4-60b3603b48cd"
      },
      "execution_count": null,
      "outputs": [
        {
          "output_type": "execute_result",
          "data": {
            "text/plain": [
              "Generation\n",
              "5    156\n",
              "1    151\n",
              "3    135\n",
              "4    107\n",
              "2    100\n",
              "6     72\n",
              "Name: count, dtype: int64"
            ],
            "text/html": [
              "<div>\n",
              "<style scoped>\n",
              "    .dataframe tbody tr th:only-of-type {\n",
              "        vertical-align: middle;\n",
              "    }\n",
              "\n",
              "    .dataframe tbody tr th {\n",
              "        vertical-align: top;\n",
              "    }\n",
              "\n",
              "    .dataframe thead th {\n",
              "        text-align: right;\n",
              "    }\n",
              "</style>\n",
              "<table border=\"1\" class=\"dataframe\">\n",
              "  <thead>\n",
              "    <tr style=\"text-align: right;\">\n",
              "      <th></th>\n",
              "      <th>count</th>\n",
              "    </tr>\n",
              "    <tr>\n",
              "      <th>Generation</th>\n",
              "      <th></th>\n",
              "    </tr>\n",
              "  </thead>\n",
              "  <tbody>\n",
              "    <tr>\n",
              "      <th>5</th>\n",
              "      <td>156</td>\n",
              "    </tr>\n",
              "    <tr>\n",
              "      <th>1</th>\n",
              "      <td>151</td>\n",
              "    </tr>\n",
              "    <tr>\n",
              "      <th>3</th>\n",
              "      <td>135</td>\n",
              "    </tr>\n",
              "    <tr>\n",
              "      <th>4</th>\n",
              "      <td>107</td>\n",
              "    </tr>\n",
              "    <tr>\n",
              "      <th>2</th>\n",
              "      <td>100</td>\n",
              "    </tr>\n",
              "    <tr>\n",
              "      <th>6</th>\n",
              "      <td>72</td>\n",
              "    </tr>\n",
              "  </tbody>\n",
              "</table>\n",
              "</div><br><label><b>dtype:</b> int64</label>"
            ]
          },
          "metadata": {},
          "execution_count": 35
        }
      ]
    },
    {
      "cell_type": "code",
      "source": [
        "tabfrec2"
      ],
      "metadata": {
        "colab": {
          "base_uri": "https://localhost:8080/",
          "height": 178
        },
        "id": "BVSQP-jUdYxe",
        "outputId": "3edaf434-e890-435e-e268-2e0fe5d63268"
      },
      "execution_count": null,
      "outputs": [
        {
          "output_type": "execute_result",
          "data": {
            "text/plain": [
              "isLegendary\n",
              "False    675\n",
              "True      46\n",
              "Name: count, dtype: int64"
            ],
            "text/html": [
              "<div>\n",
              "<style scoped>\n",
              "    .dataframe tbody tr th:only-of-type {\n",
              "        vertical-align: middle;\n",
              "    }\n",
              "\n",
              "    .dataframe tbody tr th {\n",
              "        vertical-align: top;\n",
              "    }\n",
              "\n",
              "    .dataframe thead th {\n",
              "        text-align: right;\n",
              "    }\n",
              "</style>\n",
              "<table border=\"1\" class=\"dataframe\">\n",
              "  <thead>\n",
              "    <tr style=\"text-align: right;\">\n",
              "      <th></th>\n",
              "      <th>count</th>\n",
              "    </tr>\n",
              "    <tr>\n",
              "      <th>isLegendary</th>\n",
              "      <th></th>\n",
              "    </tr>\n",
              "  </thead>\n",
              "  <tbody>\n",
              "    <tr>\n",
              "      <th>False</th>\n",
              "      <td>675</td>\n",
              "    </tr>\n",
              "    <tr>\n",
              "      <th>True</th>\n",
              "      <td>46</td>\n",
              "    </tr>\n",
              "  </tbody>\n",
              "</table>\n",
              "</div><br><label><b>dtype:</b> int64</label>"
            ]
          },
          "metadata": {},
          "execution_count": 36
        }
      ]
    },
    {
      "cell_type": "code",
      "source": [
        "plt.figure(figsize=(10, 6))\n",
        "tabfrec1.plot(kind='bar', color='#90EE90')\n",
        "plt.title('Pokémon Generations Frequency')\n",
        "plt.xlabel('Generation')\n",
        "plt.ylabel('Frequency')\n",
        "plt.xticks(rotation=0)\n",
        "plt.tight_layout()\n",
        "plt.show()"
      ],
      "metadata": {
        "colab": {
          "base_uri": "https://localhost:8080/",
          "height": 607
        },
        "id": "ca6eHunsdaxu",
        "outputId": "52808d3a-0de8-437e-a7cc-baf036876d03"
      },
      "execution_count": null,
      "outputs": [
        {
          "output_type": "display_data",
          "data": {
            "text/plain": [
              "<Figure size 1000x600 with 1 Axes>"
            ],
            "image/png": "[encoded data removed]"
          },
          "metadata": {}
        }
      ]
    },
    {
      "cell_type": "code",
      "source": [
        "plt.figure(figsize=(8, 8))\n",
        "tabfrec2.plot(kind='pie', autopct='%1.1f%%', colors=['lightblue', 'lightcoral'])\n",
        "plt.title('Legendary Status Distribution')\n",
        "plt.ylabel('')\n",
        "plt.show()"
      ],
      "metadata": {
        "colab": {
          "base_uri": "https://localhost:8080/",
          "height": 675
        },
        "id": "3_5wj69Udpen",
        "outputId": "fe3e80de-f2c8-4282-edaf-4823375431b2"
      },
      "execution_count": null,
      "outputs": [
        {
          "output_type": "display_data",
          "data": {
            "text/plain": [
              "<Figure size 800x800 with 1 Axes>"
            ],
            "image/png": "[encoded data removed]"
          },
          "metadata": {}
        }
      ]
    }
  ]
}
