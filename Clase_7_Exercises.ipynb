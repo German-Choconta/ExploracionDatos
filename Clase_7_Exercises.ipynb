{
  "nbformat": 4,
  "nbformat_minor": 0,
  "metadata": {
    "colab": {
      "provenance": []
    },
    "kernelspec": {
      "name": "python3",
      "display_name": "Python 3"
    },
    "language_info": {
      "name": "python"
    }
  },
  "cells": [
    {
      "cell_type": "markdown",
      "source": [
        "Taller Aplicado de Pivot Tables, Tablas de Contingencia y Melts"
      ],
      "metadata": {
        "id": "c4zeZQFnr2oV"
      }
    },
    {
      "cell_type": "code",
      "execution_count": null,
      "metadata": {
        "colab": {
          "base_uri": "https://localhost:8080/"
        },
        "id": "LWCmQwhkpA0P",
        "outputId": "ef5ecd51-d878-4360-85f1-f488f591bb29"
      },
      "outputs": [
        {
          "output_type": "stream",
          "name": "stdout",
          "text": [
            "--2024-10-03 21:25:11--  https://github.com/javierherrera1996/lecture_analytics/raw/refs/heads/main/time_series.zip\n",
            "Resolving github.com (github.com)... 140.82.112.3\n",
            "Connecting to github.com (github.com)|140.82.112.3|:443... connected.\n",
            "HTTP request sent, awaiting response... 302 Found\n",
            "Location: https://raw.githubusercontent.com/javierherrera1996/lecture_analytics/refs/heads/main/time_series.zip [following]\n",
            "--2024-10-03 21:25:12--  https://raw.githubusercontent.com/javierherrera1996/lecture_analytics/refs/heads/main/time_series.zip\n",
            "Resolving raw.githubusercontent.com (raw.githubusercontent.com)... 185.199.108.133, 185.199.109.133, 185.199.110.133, ...\n",
            "Connecting to raw.githubusercontent.com (raw.githubusercontent.com)|185.199.108.133|:443... connected.\n",
            "HTTP request sent, awaiting response... 200 OK\n",
            "Length: 15602616 (15M) [application/zip]\n",
            "Saving to: ‘time_series.zip.1’\n",
            "\n",
            "\rtime_series.zip.1     0%[                    ]       0  --.-KB/s               \rtime_series.zip.1   100%[===================>]  14.88M  --.-KB/s    in 0.05s   \n",
            "\n",
            "2024-10-03 21:25:12 (290 MB/s) - ‘time_series.zip.1’ saved [15602616/15602616]\n",
            "\n",
            "Archive:  time_series.zip\n",
            "replace time_series/fundamentals.csv? [y]es, [n]o, [A]ll, [N]one, [r]ename: "
          ]
        }
      ],
      "source": [
        "!wget https://github.com/javierherrera1996/lecture_analytics/raw/refs/heads/main/time_series.zip\n",
        "!unzip time_series.zip\n",
        "!cp -r time_series/* ./"
      ]
    },
    {
      "cell_type": "markdown",
      "source": [
        "Contexto del Taller\n",
        "Tienes datos históricos de precios y volumen de transacciones de acciones de una empresa (AAPL). El objetivo es utilizar herramientas como pivot tables, tablas de contingencia y melts en Python para realizar un análisis exploratorio que pueda influir en decisiones de inversión o identificar tendencias.\n",
        "\n",
        "Preguntas de Pivot Tables (Enfocadas a Negocio)\n",
        "Calcula el volumen promedio de transacciones por mes para la acción AAPL.\n",
        "\n",
        "Contexto de negocio: El volumen mensual te ayuda a entender la liquidez de la acción y detectar patrones de alta actividad.\n"
      ],
      "metadata": {
        "id": "wSqt9pHNr6NB"
      }
    },
    {
      "cell_type": "code",
      "source": [
        "import pandas as pd\n",
        "data = pd.read_csv('prices.csv')\n",
        "data.head()"
      ],
      "metadata": {
        "id": "JqXg1bPisAzP",
        "colab": {
          "base_uri": "https://localhost:8080/",
          "height": 206
        },
        "outputId": "7daf238a-6908-473c-e8b2-fd38ec6e9d71"
      },
      "execution_count": 27,
      "outputs": [
        {
          "output_type": "execute_result",
          "data": {
            "text/plain": [
              "                  date symbol        open       close         low        high  \\\n",
              "0  2016-01-05 00:00:00   WLTW  123.430000  125.839996  122.309998  126.250000   \n",
              "1  2016-01-06 00:00:00   WLTW  125.239998  119.980003  119.940002  125.540001   \n",
              "2  2016-01-07 00:00:00   WLTW  116.379997  114.949997  114.930000  119.739998   \n",
              "3  2016-01-08 00:00:00   WLTW  115.480003  116.620003  113.500000  117.440002   \n",
              "4  2016-01-11 00:00:00   WLTW  117.010002  114.970001  114.089996  117.330002   \n",
              "\n",
              "      volume  \n",
              "0  2163600.0  \n",
              "1  2386400.0  \n",
              "2  2489500.0  \n",
              "3  2006300.0  \n",
              "4  1408600.0  "
            ],
            "text/html": [
              "\n",
              "  <div id=\"df-944c027c-c4c4-4ff4-8d0c-238c20de2a37\" class=\"colab-df-container\">\n",
              "    <div>\n",
              "<style scoped>\n",
              "    .dataframe tbody tr th:only-of-type {\n",
              "        vertical-align: middle;\n",
              "    }\n",
              "\n",
              "    .dataframe tbody tr th {\n",
              "        vertical-align: top;\n",
              "    }\n",
              "\n",
              "    .dataframe thead th {\n",
              "        text-align: right;\n",
              "    }\n",
              "</style>\n",
              "<table border=\"1\" class=\"dataframe\">\n",
              "  <thead>\n",
              "    <tr style=\"text-align: right;\">\n",
              "      <th></th>\n",
              "      <th>date</th>\n",
              "      <th>symbol</th>\n",
              "      <th>open</th>\n",
              "      <th>close</th>\n",
              "      <th>low</th>\n",
              "      <th>high</th>\n",
              "      <th>volume</th>\n",
              "    </tr>\n",
              "  </thead>\n",
              "  <tbody>\n",
              "    <tr>\n",
              "      <th>0</th>\n",
              "      <td>2016-01-05 00:00:00</td>\n",
              "      <td>WLTW</td>\n",
              "      <td>123.430000</td>\n",
              "      <td>125.839996</td>\n",
              "      <td>122.309998</td>\n",
              "      <td>126.250000</td>\n",
              "      <td>2163600.0</td>\n",
              "    </tr>\n",
              "    <tr>\n",
              "      <th>1</th>\n",
              "      <td>2016-01-06 00:00:00</td>\n",
              "      <td>WLTW</td>\n",
              "      <td>125.239998</td>\n",
              "      <td>119.980003</td>\n",
              "      <td>119.940002</td>\n",
              "      <td>125.540001</td>\n",
              "      <td>2386400.0</td>\n",
              "    </tr>\n",
              "    <tr>\n",
              "      <th>2</th>\n",
              "      <td>2016-01-07 00:00:00</td>\n",
              "      <td>WLTW</td>\n",
              "      <td>116.379997</td>\n",
              "      <td>114.949997</td>\n",
              "      <td>114.930000</td>\n",
              "      <td>119.739998</td>\n",
              "      <td>2489500.0</td>\n",
              "    </tr>\n",
              "    <tr>\n",
              "      <th>3</th>\n",
              "      <td>2016-01-08 00:00:00</td>\n",
              "      <td>WLTW</td>\n",
              "      <td>115.480003</td>\n",
              "      <td>116.620003</td>\n",
              "      <td>113.500000</td>\n",
              "      <td>117.440002</td>\n",
              "      <td>2006300.0</td>\n",
              "    </tr>\n",
              "    <tr>\n",
              "      <th>4</th>\n",
              "      <td>2016-01-11 00:00:00</td>\n",
              "      <td>WLTW</td>\n",
              "      <td>117.010002</td>\n",
              "      <td>114.970001</td>\n",
              "      <td>114.089996</td>\n",
              "      <td>117.330002</td>\n",
              "      <td>1408600.0</td>\n",
              "    </tr>\n",
              "  </tbody>\n",
              "</table>\n",
              "</div>\n",
              "    <div class=\"colab-df-buttons\">\n",
              "\n",
              "  <div class=\"colab-df-container\">\n",
              "    <button class=\"colab-df-convert\" onclick=\"convertToInteractive('df-944c027c-c4c4-4ff4-8d0c-238c20de2a37')\"\n",
              "            title=\"Convert this dataframe to an interactive table.\"\n",
              "            style=\"display:none;\">\n",
              "\n",
              "  <svg xmlns=\"http://www.w3.org/2000/svg\" height=\"24px\" viewBox=\"0 -960 960 960\">\n",
              "    <path d=\"M120-120v-720h720v720H120Zm60-500h600v-160H180v160Zm220 220h160v-160H400v160Zm0 220h160v-160H400v160ZM180-400h160v-160H180v160Zm440 0h160v-160H620v160ZM180-180h160v-160H180v160Zm440 0h160v-160H620v160Z\"/>\n",
              "  </svg>\n",
              "    </button>\n",
              "\n",
              "  <style>\n",
              "    .colab-df-container {\n",
              "      display:flex;\n",
              "      gap: 12px;\n",
              "    }\n",
              "\n",
              "    .colab-df-convert {\n",
              "      background-color: #E8F0FE;\n",
              "      border: none;\n",
              "      border-radius: 50%;\n",
              "      cursor: pointer;\n",
              "      display: none;\n",
              "      fill: #1967D2;\n",
              "      height: 32px;\n",
              "      padding: 0 0 0 0;\n",
              "      width: 32px;\n",
              "    }\n",
              "\n",
              "    .colab-df-convert:hover {\n",
              "      background-color: #E2EBFA;\n",
              "      box-shadow: 0px 1px 2px rgba(60, 64, 67, 0.3), 0px 1px 3px 1px rgba(60, 64, 67, 0.15);\n",
              "      fill: #174EA6;\n",
              "    }\n",
              "\n",
              "    .colab-df-buttons div {\n",
              "      margin-bottom: 4px;\n",
              "    }\n",
              "\n",
              "    [theme=dark] .colab-df-convert {\n",
              "      background-color: #3B4455;\n",
              "      fill: #D2E3FC;\n",
              "    }\n",
              "\n",
              "    [theme=dark] .colab-df-convert:hover {\n",
              "      background-color: #434B5C;\n",
              "      box-shadow: 0px 1px 3px 1px rgba(0, 0, 0, 0.15);\n",
              "      filter: drop-shadow(0px 1px 2px rgba(0, 0, 0, 0.3));\n",
              "      fill: #FFFFFF;\n",
              "    }\n",
              "  </style>\n",
              "\n",
              "    <script>\n",
              "      const buttonEl =\n",
              "        document.querySelector('#df-944c027c-c4c4-4ff4-8d0c-238c20de2a37 button.colab-df-convert');\n",
              "      buttonEl.style.display =\n",
              "        google.colab.kernel.accessAllowed ? 'block' : 'none';\n",
              "\n",
              "      async function convertToInteractive(key) {\n",
              "        const element = document.querySelector('#df-944c027c-c4c4-4ff4-8d0c-238c20de2a37');\n",
              "        const dataTable =\n",
              "          await google.colab.kernel.invokeFunction('convertToInteractive',\n",
              "                                                    [key], {});\n",
              "        if (!dataTable) return;\n",
              "\n",
              "        const docLinkHtml = 'Like what you see? Visit the ' +\n",
              "          '<a target=\"_blank\" href=https://colab.research.google.com/notebooks/data_table.ipynb>data table notebook</a>'\n",
              "          + ' to learn more about interactive tables.';\n",
              "        element.innerHTML = '';\n",
              "        dataTable['output_type'] = 'display_data';\n",
              "        await google.colab.output.renderOutput(dataTable, element);\n",
              "        const docLink = document.createElement('div');\n",
              "        docLink.innerHTML = docLinkHtml;\n",
              "        element.appendChild(docLink);\n",
              "      }\n",
              "    </script>\n",
              "  </div>\n",
              "\n",
              "\n",
              "<div id=\"df-0eafbf4e-5108-4803-be93-9661cde4a5a3\">\n",
              "  <button class=\"colab-df-quickchart\" onclick=\"quickchart('df-0eafbf4e-5108-4803-be93-9661cde4a5a3')\"\n",
              "            title=\"Suggest charts\"\n",
              "            style=\"display:none;\">\n",
              "\n",
              "<svg xmlns=\"http://www.w3.org/2000/svg\" height=\"24px\"viewBox=\"0 0 24 24\"\n",
              "     width=\"24px\">\n",
              "    <g>\n",
              "        <path d=\"M19 3H5c-1.1 0-2 .9-2 2v14c0 1.1.9 2 2 2h14c1.1 0 2-.9 2-2V5c0-1.1-.9-2-2-2zM9 17H7v-7h2v7zm4 0h-2V7h2v10zm4 0h-2v-4h2v4z\"/>\n",
              "    </g>\n",
              "</svg>\n",
              "  </button>\n",
              "\n",
              "<style>\n",
              "  .colab-df-quickchart {\n",
              "      --bg-color: #E8F0FE;\n",
              "      --fill-color: #1967D2;\n",
              "      --hover-bg-color: #E2EBFA;\n",
              "      --hover-fill-color: #174EA6;\n",
              "      --disabled-fill-color: #AAA;\n",
              "      --disabled-bg-color: #DDD;\n",
              "  }\n",
              "\n",
              "  [theme=dark] .colab-df-quickchart {\n",
              "      --bg-color: #3B4455;\n",
              "      --fill-color: #D2E3FC;\n",
              "      --hover-bg-color: #434B5C;\n",
              "      --hover-fill-color: #FFFFFF;\n",
              "      --disabled-bg-color: #3B4455;\n",
              "      --disabled-fill-color: #666;\n",
              "  }\n",
              "\n",
              "  .colab-df-quickchart {\n",
              "    background-color: var(--bg-color);\n",
              "    border: none;\n",
              "    border-radius: 50%;\n",
              "    cursor: pointer;\n",
              "    display: none;\n",
              "    fill: var(--fill-color);\n",
              "    height: 32px;\n",
              "    padding: 0;\n",
              "    width: 32px;\n",
              "  }\n",
              "\n",
              "  .colab-df-quickchart:hover {\n",
              "    background-color: var(--hover-bg-color);\n",
              "    box-shadow: 0 1px 2px rgba(60, 64, 67, 0.3), 0 1px 3px 1px rgba(60, 64, 67, 0.15);\n",
              "    fill: var(--button-hover-fill-color);\n",
              "  }\n",
              "\n",
              "  .colab-df-quickchart-complete:disabled,\n",
              "  .colab-df-quickchart-complete:disabled:hover {\n",
              "    background-color: var(--disabled-bg-color);\n",
              "    fill: var(--disabled-fill-color);\n",
              "    box-shadow: none;\n",
              "  }\n",
              "\n",
              "  .colab-df-spinner {\n",
              "    border: 2px solid var(--fill-color);\n",
              "    border-color: transparent;\n",
              "    border-bottom-color: var(--fill-color);\n",
              "    animation:\n",
              "      spin 1s steps(1) infinite;\n",
              "  }\n",
              "\n",
              "  @keyframes spin {\n",
              "    0% {\n",
              "      border-color: transparent;\n",
              "      border-bottom-color: var(--fill-color);\n",
              "      border-left-color: var(--fill-color);\n",
              "    }\n",
              "    20% {\n",
              "      border-color: transparent;\n",
              "      border-left-color: var(--fill-color);\n",
              "      border-top-color: var(--fill-color);\n",
              "    }\n",
              "    30% {\n",
              "      border-color: transparent;\n",
              "      border-left-color: var(--fill-color);\n",
              "      border-top-color: var(--fill-color);\n",
              "      border-right-color: var(--fill-color);\n",
              "    }\n",
              "    40% {\n",
              "      border-color: transparent;\n",
              "      border-right-color: var(--fill-color);\n",
              "      border-top-color: var(--fill-color);\n",
              "    }\n",
              "    60% {\n",
              "      border-color: transparent;\n",
              "      border-right-color: var(--fill-color);\n",
              "    }\n",
              "    80% {\n",
              "      border-color: transparent;\n",
              "      border-right-color: var(--fill-color);\n",
              "      border-bottom-color: var(--fill-color);\n",
              "    }\n",
              "    90% {\n",
              "      border-color: transparent;\n",
              "      border-bottom-color: var(--fill-color);\n",
              "    }\n",
              "  }\n",
              "</style>\n",
              "\n",
              "  <script>\n",
              "    async function quickchart(key) {\n",
              "      const quickchartButtonEl =\n",
              "        document.querySelector('#' + key + ' button');\n",
              "      quickchartButtonEl.disabled = true;  // To prevent multiple clicks.\n",
              "      quickchartButtonEl.classList.add('colab-df-spinner');\n",
              "      try {\n",
              "        const charts = await google.colab.kernel.invokeFunction(\n",
              "            'suggestCharts', [key], {});\n",
              "      } catch (error) {\n",
              "        console.error('Error during call to suggestCharts:', error);\n",
              "      }\n",
              "      quickchartButtonEl.classList.remove('colab-df-spinner');\n",
              "      quickchartButtonEl.classList.add('colab-df-quickchart-complete');\n",
              "    }\n",
              "    (() => {\n",
              "      let quickchartButtonEl =\n",
              "        document.querySelector('#df-0eafbf4e-5108-4803-be93-9661cde4a5a3 button');\n",
              "      quickchartButtonEl.style.display =\n",
              "        google.colab.kernel.accessAllowed ? 'block' : 'none';\n",
              "    })();\n",
              "  </script>\n",
              "</div>\n",
              "\n",
              "    </div>\n",
              "  </div>\n"
            ],
            "application/vnd.google.colaboratory.intrinsic+json": {
              "type": "dataframe",
              "variable_name": "data"
            }
          },
          "metadata": {},
          "execution_count": 27
        }
      ]
    },
    {
      "cell_type": "markdown",
      "source": [
        "Calcula el precio promedio de apertura y cierre por día de la semana.\n",
        "\n",
        "Contexto de negocio: Esto puede ayudar a identificar si hay días de la semana en los que la acción tiende a abrir o cerrar con precios más altos."
      ],
      "metadata": {
        "id": "NObhi-Rqr-X9"
      }
    },
    {
      "cell_type": "code",
      "source": [
        "import pandas as pd\n",
        "\n",
        "df = pd.read_csv('prices.csv')\n",
        "\n",
        "print(\"Nombres de las columnas:\", df.columns)\n",
        "\n",
        "print(df.head())\n",
        "print(df.tail())\n",
        "\n",
        "df['date'] = pd.to_datetime(df['date'], errors='coerce')\n",
        "\n",
        "df = df.dropna(subset=['date'])\n",
        "\n",
        "df.loc[:, 'Month'] = df['date'].dt.to_period('M')\n",
        "\n",
        "pivot_table = df.pivot_table(values='volume', index='Month', aggfunc='mean')\n",
        "\n",
        "print(pivot_table)"
      ],
      "metadata": {
        "id": "oLK1kDuDsBUt",
        "colab": {
          "base_uri": "https://localhost:8080/"
        },
        "outputId": "1d993c36-e1b1-4abf-fa1a-c1434aeb188f"
      },
      "execution_count": 28,
      "outputs": [
        {
          "output_type": "stream",
          "name": "stdout",
          "text": [
            "Nombres de las columnas: Index(['date', 'symbol', 'open', 'close', 'low', 'high', 'volume'], dtype='object')\n",
            "                  date symbol        open       close         low        high  \\\n",
            "0  2016-01-05 00:00:00   WLTW  123.430000  125.839996  122.309998  126.250000   \n",
            "1  2016-01-06 00:00:00   WLTW  125.239998  119.980003  119.940002  125.540001   \n",
            "2  2016-01-07 00:00:00   WLTW  116.379997  114.949997  114.930000  119.739998   \n",
            "3  2016-01-08 00:00:00   WLTW  115.480003  116.620003  113.500000  117.440002   \n",
            "4  2016-01-11 00:00:00   WLTW  117.010002  114.970001  114.089996  117.330002   \n",
            "\n",
            "      volume  \n",
            "0  2163600.0  \n",
            "1  2386400.0  \n",
            "2  2489500.0  \n",
            "3  2006300.0  \n",
            "4  1408600.0  \n",
            "                       date symbol        open       close         low  \\\n",
            "851259           2016-12-30    ZBH  103.309998  103.199997  102.849998   \n",
            "851260           2016-12-30   ZION   43.070000   43.040001   42.689999   \n",
            "851261           2016-12-30    ZTS   53.639999   53.529999   53.270000   \n",
            "851262  2016-12-30 00:00:00    AIV   44.730000   45.450001   44.410000   \n",
            "851263  2016-12-30 00:00:00    FTV   54.200001   53.630001   53.389999   \n",
            "\n",
            "              high     volume  \n",
            "851259  103.930000   973800.0  \n",
            "851260   43.310001  1938100.0  \n",
            "851261   53.740002  1701200.0  \n",
            "851262   45.590000  1380900.0  \n",
            "851263   54.480000   705100.0  \n",
            "               volume\n",
            "Month                \n",
            "2010-01  2.435384e+06\n",
            "2010-02  2.366379e+06\n",
            "2010-03  1.896691e+06\n",
            "2010-04  2.411843e+06\n",
            "2010-05  3.047175e+06\n",
            "...               ...\n",
            "2016-08  1.187067e+06\n",
            "2016-09  1.170748e+06\n",
            "2016-10  1.166019e+06\n",
            "2016-11  1.361879e+06\n",
            "2016-12  1.219319e+06\n",
            "\n",
            "[84 rows x 1 columns]\n"
          ]
        }
      ]
    },
    {
      "cell_type": "code",
      "source": [
        "import pandas as pd\n",
        "\n",
        "df['Day of Week'] = df['date'].dt.dayofweek\n",
        "pivot_table_open_close = df.pivot_table(values=['open', 'close'], index='Day of Week', aggfunc='mean')\n",
        "print(pivot_table_open_close)\n",
        "\n",
        "bins = [0, 100, 150, 200, float('inf')]\n",
        "labels = ['0-100', '100-150', '150-200', '>200']\n",
        "df['Open Price Range'] = pd.cut(df['open'], bins=bins, labels=labels)\n",
        "\n",
        "crosstab_open_range_month = pd.crosstab(df['Month'], df['Open Price Range'])\n",
        "print(crosstab_open_range_month)\n",
        "\n",
        "melted_df = pd.melt(df, id_vars=['date'], value_vars=['open', 'close'], var_name='Price Type', value_name='Price')\n",
        "print(melted_df.head())\n"
      ],
      "metadata": {
        "id": "J7KxTamVVNIi",
        "outputId": "daeac2e0-5aa4-4c4e-ef67-d489d69def4a",
        "colab": {
          "base_uri": "https://localhost:8080/"
        }
      },
      "execution_count": 30,
      "outputs": [
        {
          "output_type": "stream",
          "name": "stdout",
          "text": [
            "                 close       open\n",
            "Day of Week                      \n",
            "0            42.074497  42.023794\n",
            "1            42.563750  42.520841\n",
            "2            42.536023  42.547250\n",
            "3            42.497981  42.438863\n",
            "4            42.531558  42.542581\n",
            "Open Price Range  0-100  100-150\n",
            "Month                           \n",
            "2010-01              19        0\n",
            "2010-02              19        0\n",
            "2010-03              23        0\n",
            "2010-04              21        0\n",
            "2010-05              20        0\n",
            "...                 ...      ...\n",
            "2016-08              46       23\n",
            "2016-09              42       21\n",
            "2016-10              42       21\n",
            "2016-11              42       21\n",
            "2016-12              42       21\n",
            "\n",
            "[84 rows x 2 columns]\n",
            "        date Price Type       Price\n",
            "0 2016-01-05       open  123.430000\n",
            "1 2016-01-06       open  125.239998\n",
            "2 2016-01-07       open  116.379997\n",
            "3 2016-01-08       open  115.480003\n",
            "4 2016-01-11       open  117.010002\n"
          ]
        }
      ]
    },
    {
      "cell_type": "markdown",
      "source": [
        "Calcula el volumen total de transacciones por día de la semana y compara la actividad entre días.\n",
        "\n",
        "Contexto de negocio: Saber qué días tienen mayor actividad puede ayudarte a decidir cuándo realizar compras o ventas estratégicas."
      ],
      "metadata": {
        "id": "EuiXaaDHrBzj"
      }
    },
    {
      "cell_type": "code",
      "source": [
        "import pandas as pd\n",
        "pivot_table_volume_day = df.pivot_table(values='volume', index='Day of Week', aggfunc='sum')\n",
        "print(pivot_table_volume_day)\n",
        "\n",
        "\n",
        "day_with_max_volume = pivot_table_volume_day['volume'].idxmax()\n",
        "print(f\"El día con el mayor volumen de transacciones es: {day_with_max_volume}\")\n",
        "\n",
        "day_with_min_volume = pivot_table_volume_day['volume'].idxmin()\n",
        "max_volume = pivot_table_volume_day.loc[day_with_max_volume]['volume']\n",
        "min_volume = pivot_table_volume_day.loc[day_with_min_volume]['volume']\n",
        "percentage_difference = ((max_volume - min_volume) / min_volume) * 100\n",
        "print(f\"Diferencia porcentual entre el día con mayor y menor volumen: {percentage_difference:.2f}%\")\n",
        "\n",
        "\n",
        "crosstab_volume_day_open_range = pd.crosstab(df['Day of Week'], df['Open Price Range'], values=df['volume'], aggfunc='sum')\n",
        "print(crosstab_volume_day_open_range)"
      ],
      "metadata": {
        "id": "nEIaJw5cq2DD",
        "outputId": "4aaf3ee5-4f47-415a-ee48-34a11e1ebc7e",
        "colab": {
          "base_uri": "https://localhost:8080/"
        }
      },
      "execution_count": 34,
      "outputs": [
        {
          "output_type": "stream",
          "name": "stdout",
          "text": [
            "                  volume\n",
            "Day of Week             \n",
            "0            512724700.0\n",
            "1            630973200.0\n",
            "2            620850100.0\n",
            "3            609506900.0\n",
            "4            646359800.0\n",
            "El día con el mayor volumen de transacciones es: 4\n",
            "Diferencia porcentual entre el día con mayor y menor volumen: 26.06%\n",
            "Open Price Range        0-100     100-150  150-200  >200\n",
            "Day of Week                                             \n",
            "0                 482355300.0  30369400.0      0.0   0.0\n",
            "1                 590007000.0  40966200.0      0.0   0.0\n",
            "2                 580518200.0  40331900.0      0.0   0.0\n",
            "3                 571715800.0  37791100.0      0.0   0.0\n",
            "4                 598625500.0  47734300.0      0.0   0.0\n"
          ]
        }
      ]
    },
    {
      "cell_type": "markdown",
      "source": [
        "Calcula los precios máximos y mínimos de apertura por mes.\n",
        "\n",
        "Contexto de negocio: Esto te permitirá evaluar la volatilidad mensual de la acción."
      ],
      "metadata": {
        "id": "F7JD1MvdryJA"
      }
    },
    {
      "cell_type": "code",
      "source": [
        "pivot_table_open_minmax = df.pivot_table(values='open', index='Month', columns=\"symbol\", aggfunc=['min', 'max'])\n",
        "print(pivot_table_open_minmax)"
      ],
      "metadata": {
        "id": "J3dkmfeqFtze",
        "outputId": "39ca53c9-99af-4abf-b9ea-161cd8ee04d7",
        "colab": {
          "base_uri": "https://localhost:8080/"
        }
      },
      "execution_count": 66,
      "outputs": [
        {
          "output_type": "stream",
          "name": "stdout",
          "text": [
            "               min                               max                       \n",
            "symbol         AIV        FTV        WLTW        AIV        FTV        WLTW\n",
            "Month                                                                      \n",
            "2010-01  15.380000        NaN         NaN  17.100000        NaN         NaN\n",
            "2010-02  15.380000        NaN         NaN  16.799999        NaN         NaN\n",
            "2010-03  16.760000        NaN         NaN  18.799999        NaN         NaN\n",
            "2010-04  18.620001        NaN         NaN  22.100000        NaN         NaN\n",
            "2010-05  18.410000        NaN         NaN  23.330000        NaN         NaN\n",
            "...            ...        ...         ...        ...        ...         ...\n",
            "2016-08  43.759998  47.500000  119.570000  46.049999  53.669998  124.180000\n",
            "2016-09  43.490002  49.980000  121.709999  47.820000  53.500000  129.169998\n",
            "2016-10  41.939999  47.689999  125.889999  45.689999  51.259998  132.449997\n",
            "2016-11  40.009998  50.290001  117.010002  44.910000  56.080002  126.519997\n",
            "2016-12  41.599998  53.509998  120.690002  44.860001  55.240002  126.449997\n",
            "\n",
            "[84 rows x 6 columns]\n"
          ]
        }
      ]
    },
    {
      "cell_type": "code",
      "source": [
        "pivot_table_open_minmax.to_csv('open_minmax.csv')"
      ],
      "metadata": {
        "id": "fFpdb9CfceYb"
      },
      "execution_count": 67,
      "outputs": []
    },
    {
      "cell_type": "markdown",
      "source": [
        "Calcula el volumen promedio por mes y acción (suponiendo que tienes datos de múltiples acciones).\n",
        "\n",
        "Contexto de negocio: Esta información te ayuda a comparar la liquidez de diferentes acciones a lo largo del tiempo.\n"
      ],
      "metadata": {
        "id": "Kd2KertnFuEY"
      }
    },
    {
      "cell_type": "code",
      "source": [
        "pivot_table_volume_ticker = df.pivot_table(values='volume', index='Month', columns='symbol', aggfunc='mean')\n",
        "print(pivot_table_volume_ticker)"
      ],
      "metadata": {
        "id": "YoPUqDkiFwuM",
        "outputId": "871d01d2-b163-49b7-f525-d702a51f59eb",
        "colab": {
          "base_uri": "https://localhost:8080/"
        }
      },
      "execution_count": 39,
      "outputs": [
        {
          "output_type": "stream",
          "name": "stdout",
          "text": [
            "symbol            AIV           FTV           WLTW\n",
            "Month                                             \n",
            "2010-01  2.435384e+06           NaN            NaN\n",
            "2010-02  2.366379e+06           NaN            NaN\n",
            "2010-03  1.896691e+06           NaN            NaN\n",
            "2010-04  2.411843e+06           NaN            NaN\n",
            "2010-05  3.047175e+06           NaN            NaN\n",
            "...               ...           ...            ...\n",
            "2016-08  1.184600e+06  1.745757e+06  630843.478261\n",
            "2016-09  1.410038e+06  1.353395e+06  748809.523810\n",
            "2016-10  1.462195e+06  1.446014e+06  589847.619048\n",
            "2016-11  1.693795e+06  1.495057e+06  896785.714286\n",
            "2016-12  1.305529e+06  1.588829e+06  763600.000000\n",
            "\n",
            "[84 rows x 3 columns]\n"
          ]
        }
      ]
    },
    {
      "cell_type": "markdown",
      "source": [
        "Calcula el precio de cierre promedio de la acción AAPL por mes, y agrega una columna con el total de transacciones en cada mes.\n",
        "\n",
        "Contexto de negocio: Esto te permite comparar el comportamiento de los precios con el volumen de transacciones, para entender si hay algún patrón de venta o compra en función del precio."
      ],
      "metadata": {
        "id": "Bi9wyS9lFw-S"
      }
    },
    {
      "cell_type": "code",
      "source": [
        "pivot_table_close_volume = df.pivot_table(values=['close', 'volume'], index='Month', aggfunc={'close': 'mean', 'volume': 'sum'})\n",
        "print(pivot_table_close_volume)\n"
      ],
      "metadata": {
        "id": "GhnLngACF0zq",
        "outputId": "75100fb9-35dd-4503-b7f0-6b7433977a03",
        "colab": {
          "base_uri": "https://localhost:8080/"
        }
      },
      "execution_count": 40,
      "outputs": [
        {
          "output_type": "stream",
          "name": "stdout",
          "text": [
            "             close      volume\n",
            "Month                         \n",
            "2010-01  16.261579  46272300.0\n",
            "2010-02  16.145263  44961200.0\n",
            "2010-03  17.922609  43623900.0\n",
            "2010-04  20.528572  50648700.0\n",
            "2010-05  21.345500  60943500.0\n",
            "...            ...         ...\n",
            "2016-08  72.953188  81907600.0\n",
            "2016-09  74.463016  73757100.0\n",
            "2016-10  73.654603  73459200.0\n",
            "2016-11  72.846508  85798400.0\n",
            "2016-12  73.476984  76817100.0\n",
            "\n",
            "[84 rows x 2 columns]\n"
          ]
        }
      ]
    },
    {
      "cell_type": "markdown",
      "source": [
        "Preguntas de Tablas de Contingencia (Aplicadas a Negocios)\n",
        "Crea una tabla de contingencia para contar cuántos días el precio de apertura fue mayor o igual a $155 y cuántos días fue menor a $155.\n",
        "\n",
        "Contexto de negocio: Esto te ayuda a entender cómo se distribuyen los precios de apertura alrededor de un umbral crítico de $155."
      ],
      "metadata": {
        "id": "pUuT9YI3F1Dj"
      }
    },
    {
      "cell_type": "code",
      "source": [
        "import pandas as pd\n",
        "contingency_table_open_price = pd.crosstab(df['open'] >= 155, columns='Count')\n",
        "print(contingency_table_open_price)\n"
      ],
      "metadata": {
        "id": "4dM_dP8TF6x8",
        "outputId": "d8314723-17e5-4f7c-a80b-384364475fd7",
        "colab": {
          "base_uri": "https://localhost:8080/"
        }
      },
      "execution_count": 41,
      "outputs": [
        {
          "output_type": "stream",
          "name": "stdout",
          "text": [
            "col_0  Count\n",
            "open        \n",
            "False   2139\n"
          ]
        }
      ]
    },
    {
      "cell_type": "markdown",
      "source": [
        "Genera una tabla de contingencia para contar cuántos días el volumen de transacciones fue mayor o igual a 75 millones y cuántos días fue menor.\n",
        "\n",
        "Contexto de negocio: Identificar días de alto volumen de transacciones es clave para entender cuándo hubo más interés en la compra/venta de la acción."
      ],
      "metadata": {
        "id": "3lLqxPVvF7IC"
      }
    },
    {
      "cell_type": "code",
      "source": [
        "import pandas as pd\n",
        "contingency_table_volume = pd.crosstab(df['volume'] >= 75000000, columns='Count')\n",
        "print(contingency_table_volume)\n"
      ],
      "metadata": {
        "id": "9asT7zPKF9sJ",
        "outputId": "28b21746-7780-4326-f917-e995f33d4838",
        "colab": {
          "base_uri": "https://localhost:8080/"
        }
      },
      "execution_count": 42,
      "outputs": [
        {
          "output_type": "stream",
          "name": "stdout",
          "text": [
            "col_0   Count\n",
            "volume       \n",
            "False    2139\n"
          ]
        }
      ]
    },
    {
      "cell_type": "markdown",
      "source": [
        "Crea una tabla de contingencia que muestre cuántos días el precio de cierre fue mayor o igual al precio de apertura, y cuántos días fue menor.\n",
        "\n",
        "Contexto de negocio: Saber en cuántos días la acción cerró por encima o por debajo del precio de apertura puede darte una idea general del rendimiento de la acción."
      ],
      "metadata": {
        "id": "Fl5U-mJIF9-E"
      }
    },
    {
      "cell_type": "code",
      "source": [
        "import pandas as pd\n",
        "contingency_table_close_open = pd.crosstab(df['close'] >= df['open'], columns='Count')\n",
        "print(contingency_table_close_open)\n"
      ],
      "metadata": {
        "id": "wWgJrNSlGAV5",
        "outputId": "49c43fd2-31fc-4f62-8334-d567d2118f56",
        "colab": {
          "base_uri": "https://localhost:8080/"
        }
      },
      "execution_count": 43,
      "outputs": [
        {
          "output_type": "stream",
          "name": "stdout",
          "text": [
            "col_0  Count\n",
            "row_0       \n",
            "False    960\n",
            "True    1179\n"
          ]
        }
      ]
    },
    {
      "cell_type": "markdown",
      "source": [
        "Añade márgenes (totales) a la tabla de contingencia anterior para conocer el total de días con subidas y bajadas de precio.\n",
        "\n",
        "Contexto de negocio: Analizar cuántos días en general la acción tuvo subidas o bajadas te da un panorama más amplio del comportamiento de la acción."
      ],
      "metadata": {
        "id": "uRLZ1pTRGAju"
      }
    },
    {
      "cell_type": "code",
      "source": [
        "import pandas as pd\n",
        "contingency_table_close_open_with_margins = pd.crosstab(df['close'] >= df['open'], df[\"Month\"], margins=True)\n",
        "print(contingency_table_close_open_with_margins)"
      ],
      "metadata": {
        "id": "2Qmh2spuGD9q",
        "outputId": "c78cfa9f-0957-403b-aeb6-e599e072c90a",
        "colab": {
          "base_uri": "https://localhost:8080/"
        }
      },
      "execution_count": 51,
      "outputs": [
        {
          "output_type": "stream",
          "name": "stdout",
          "text": [
            "Month  2010-01  2010-02  2010-03  2010-04  2010-05  2010-06  2010-07  2010-08  \\\n",
            "row_0                                                                           \n",
            "False       13        7        7        8       13       10       10        8   \n",
            "True         6       12       16       13        7       12       11       14   \n",
            "All         19       19       23       21       20       22       21       22   \n",
            "\n",
            "Month  2010-09  2010-10  ...  2016-04  2016-05  2016-06  2016-07  2016-08  \\\n",
            "row_0                    ...                                                \n",
            "False       11        8  ...       13       14       18       29       29   \n",
            "True        10       13  ...       29       28       26       30       40   \n",
            "All         21       21  ...       42       42       44       59       69   \n",
            "\n",
            "Month  2016-09  2016-10  2016-11  2016-12   All  \n",
            "row_0                                            \n",
            "False       25       40       28       34   960  \n",
            "True        38       23       35       29  1179  \n",
            "All         63       63       63       63  2139  \n",
            "\n",
            "[3 rows x 85 columns]\n"
          ]
        }
      ]
    },
    {
      "cell_type": "markdown",
      "source": [
        "Crea una tabla de contingencia que compare cuántos días el precio de apertura fue mayor o igual a $155 y al mismo tiempo el precio de cierre ajustado fue mayor o menor a $155.\n",
        "\n",
        "Contexto de negocio: Esto permite identificar patrones donde el precio de apertura y el precio de cierre ajustado cruzan umbrales críticos, lo que es útil para ajustes en las estrategias de compra/venta."
      ],
      "metadata": {
        "id": "2U-4wGeQGEOE"
      }
    },
    {
      "cell_type": "code",
      "source": [
        "import pandas as pd\n",
        "contingency_table_open_adjclose = pd.crosstab(df['open'] >= 155, df['close'] >= 155)\n",
        "print(contingency_table_open_adjclose)\n"
      ],
      "metadata": {
        "id": "eIYEVTprGGv3",
        "outputId": "42a2df7e-3a31-45c8-e754-d57446e20073",
        "colab": {
          "base_uri": "https://localhost:8080/"
        }
      },
      "execution_count": 46,
      "outputs": [
        {
          "output_type": "stream",
          "name": "stdout",
          "text": [
            "close  False\n",
            "open        \n",
            "False   2139\n"
          ]
        }
      ]
    },
    {
      "cell_type": "markdown",
      "source": [
        "Preguntas de Melts (Aplicadas a Negocios)\n",
        "Transforma las columnas de precios (Open, Close, High, Low) en una única columna llamada Precio, manteniendo la fecha (Date) y el tipo de acción (Stock).\n",
        "\n",
        "Contexto de negocio: Este formato largo es ideal para realizar visualizaciones comparativas de diferentes precios de la acción a lo largo del tiempo."
      ],
      "metadata": {
        "id": "O74ohdTbGHAt"
      }
    },
    {
      "cell_type": "code",
      "source": [
        "import pandas as pd\n",
        "melted_df_prices = pd.melt(df, id_vars=['date', 'symbol'], value_vars=['open', 'close', 'high', 'low'], var_name='Price Type', value_name='Price')\n",
        "print(melted_df_prices.head())\n"
      ],
      "metadata": {
        "id": "gDbe8j-uGKlX",
        "outputId": "5c198025-eddb-420e-f6d3-8fd26405ad99",
        "colab": {
          "base_uri": "https://localhost:8080/"
        }
      },
      "execution_count": 53,
      "outputs": [
        {
          "output_type": "stream",
          "name": "stdout",
          "text": [
            "        date symbol Price Type       Price\n",
            "0 2016-01-05   WLTW       open  123.430000\n",
            "1 2016-01-06   WLTW       open  125.239998\n",
            "2 2016-01-07   WLTW       open  116.379997\n",
            "3 2016-01-08   WLTW       open  115.480003\n",
            "4 2016-01-11   WLTW       open  117.010002\n"
          ]
        }
      ]
    },
    {
      "cell_type": "code",
      "source": [
        "print(f\"Número de filas en melted_df_prices: {len(melted_df_prices)}\")\n",
        "print(f\"Número de filas en df original: {len(df)}\")\n",
        "print(f\"Tipos de precios únicos: {melted_df_prices['Price Type'].unique()}\")"
      ],
      "metadata": {
        "id": "Hsok70QuZ_FN",
        "outputId": "21516d79-3013-43ca-a221-343b6fedcd84",
        "colab": {
          "base_uri": "https://localhost:8080/"
        }
      },
      "execution_count": 54,
      "outputs": [
        {
          "output_type": "stream",
          "name": "stdout",
          "text": [
            "Número de filas en melted_df_prices: 8556\n",
            "Número de filas en df original: 2139\n",
            "Tipos de precios únicos: ['open' 'close' 'high' 'low']\n"
          ]
        }
      ]
    },
    {
      "cell_type": "markdown",
      "source": [
        "Convierte todas las columnas del dataset, excepto Date y Stock, en un formato largo usando melt.\n",
        "\n",
        "Contexto de negocio: Tener todas las variables en un formato largo es útil para generar reportes dinámicos que comparen diferentes tipos de datos (precios, volumen, etc.)."
      ],
      "metadata": {
        "id": "jUE9CvxMGKQA"
      }
    },
    {
      "cell_type": "code",
      "source": [
        "import pandas as pd\n",
        "melted_df_all = pd.melt(df, id_vars=['date', 'symbol'], var_name='Variable', value_name='Value')\n",
        "print(melted_df_all.head())"
      ],
      "metadata": {
        "id": "qloWM0gpGNNm",
        "outputId": "bfcd3061-4174-4554-beaa-78050b45a0d3",
        "colab": {
          "base_uri": "https://localhost:8080/"
        }
      },
      "execution_count": 58,
      "outputs": [
        {
          "output_type": "stream",
          "name": "stdout",
          "text": [
            "        date symbol Variable       Value\n",
            "0 2016-01-05   WLTW     open      123.43\n",
            "1 2016-01-06   WLTW     open  125.239998\n",
            "2 2016-01-07   WLTW     open  116.379997\n",
            "3 2016-01-08   WLTW     open  115.480003\n",
            "4 2016-01-11   WLTW     open  117.010002\n"
          ]
        }
      ]
    },
    {
      "cell_type": "markdown",
      "source": [
        "[texto del vínculo](https://)Usa melt para convertir los precios (Open, Close, High, Low) y el volumen (Volume) en una sola columna de valor. Luego, agrupa los datos por tipo de precio y acción para calcular el promedio de cada tipo.\n",
        "\n",
        "Contexto de negocio: Este análisis permite comparar el comportamiento de diferentes precios y el volumen en un solo análisis, lo cual es útil para entender tendencias generales de la acción."
      ],
      "metadata": {
        "id": "tRKkXY7ZGNcc"
      }
    },
    {
      "cell_type": "code",
      "source": [
        "import pandas as pd\n",
        "melted_df_prices_volume = pd.melt(df, id_vars=['date', 'symbol'], value_vars=['open', 'close', 'high', 'low', 'volume'], var_name='Price_Volume_Type', value_name='Value')\n",
        "average_prices_volume = melted_df_prices_volume.groupby(['Price_Volume_Type', 'symbol'])['Value'].mean()\n",
        "print(average_prices_volume)\n"
      ],
      "metadata": {
        "id": "yO2YZpm8GQDW",
        "outputId": "b15931ae-157e-4761-b8d7-70c743915ea5",
        "colab": {
          "base_uri": "https://localhost:8080/"
        }
      },
      "execution_count": 59,
      "outputs": [
        {
          "output_type": "stream",
          "name": "stdout",
          "text": [
            "Price_Volume_Type  symbol\n",
            "close              AIV       3.045745e+01\n",
            "                   FTV       5.167460e+01\n",
            "                   WLTW      1.219830e+02\n",
            "high               AIV       3.074775e+01\n",
            "                   FTV       5.220779e+01\n",
            "                   WLTW      1.230448e+02\n",
            "low                AIV       3.013033e+01\n",
            "                   FTV       5.111503e+01\n",
            "                   WLTW      1.206172e+02\n",
            "open               AIV       3.043641e+01\n",
            "                   FTV       5.161262e+01\n",
            "                   WLTW      1.219432e+02\n",
            "volume             AIV       1.468346e+06\n",
            "                   FTV       1.872990e+06\n",
            "                   WLTW      7.856291e+05\n",
            "Name: Value, dtype: float64\n"
          ]
        }
      ]
    },
    {
      "cell_type": "markdown",
      "source": [
        "Realiza una transformación melt para convertir los precios en una columna y agrúpalos por día para calcular el precio promedio diario de la acción.\n",
        "\n",
        "Contexto de negocio: Esto proporciona una visión agregada del comportamiento promedio de los precios diarios de la acción."
      ],
      "metadata": {
        "id": "8GrWsiq5GQQ4"
      }
    },
    {
      "cell_type": "code",
      "source": [
        "import pandas as pd\n",
        "melted_df_daily_avg = pd.melt(df, id_vars=['date'], value_vars=['open', 'close', 'high', 'low'], var_name='Price Type', value_name='Price')\n",
        "daily_average_price = melted_df_daily_avg.groupby('date')['Price'].mean()\n",
        "print(daily_average_price)\n"
      ],
      "metadata": {
        "id": "57tn7YZlGUjH",
        "outputId": "1d39f814-7bd6-415a-cabb-25e6b2ad300d",
        "colab": {
          "base_uri": "https://localhost:8080/"
        }
      },
      "execution_count": 60,
      "outputs": [
        {
          "output_type": "stream",
          "name": "stdout",
          "text": [
            "date\n",
            "2010-01-04    16.067500\n",
            "2010-01-05    16.172500\n",
            "2010-01-06    16.565000\n",
            "2010-01-07    16.910000\n",
            "2010-01-08    16.942500\n",
            "                ...    \n",
            "2016-12-23    74.248333\n",
            "2016-12-27    74.510834\n",
            "2016-12-28    73.871667\n",
            "2016-12-29    73.597499\n",
            "2016-12-30    73.808333\n",
            "Name: Price, Length: 1762, dtype: float64\n"
          ]
        }
      ]
    }
  ]
}